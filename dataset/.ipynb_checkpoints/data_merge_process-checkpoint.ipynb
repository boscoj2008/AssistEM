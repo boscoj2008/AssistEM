{
 "cells": [
  {
   "cell_type": "code",
   "execution_count": 1,
   "id": "bfe9aa3d",
   "metadata": {},
   "outputs": [],
   "source": [
    "import json\n",
    "import numpy as np"
   ]
  },
  {
   "cell_type": "code",
   "execution_count": 2,
   "id": "75f69cdb",
   "metadata": {},
   "outputs": [],
   "source": [
    "with open('train.json', 'r') as f:\n",
    "    mixed_train = json.load(f)"
   ]
  },
  {
   "cell_type": "code",
   "execution_count": 3,
   "id": "10135abc",
   "metadata": {},
   "outputs": [
    {
     "data": {
      "text/plain": [
       "[{'instruction': \"Analyze the product descriptions and determine if they are describing the same product. Respond with yes if they do and no if they don't.\",\n",
       "  'input': 'Entity 1: title intervideo dvd copy 5 express manufacturer corel price 29.99   Entity 2: title corel intervideo dvd copy 5 platinum software for windows authoring software price 49.95 ',\n",
       "  'output': 'The answer is no',\n",
       "  'answer': 'no',\n",
       "  'domain': 'electronics/software',\n",
       "  'info_density': 0.19161783025775245,\n",
       "  'seq_len': 24,\n",
       "  'ner_score': 0.24208144796380093,\n",
       "  'tfidf_norm': 0.38908956611520995},\n",
       " {'instruction': \"Analyze the product descriptions and determine if they are describing the same product. Respond with yes if they do and no if they don't.\",\n",
       "  'input': 'Entity 1: title fast algorithms for universal quantification in large databases authors g graefe   r cole venue acm trans . database syst . year 1995   Entity 2: title fast algorithms for universal quantification in large databases authors g graefe   rl cole venue acm transactions on database systems , year 1995.0 ',\n",
       "  'output': 'The answer is yes',\n",
       "  'answer': 'yes',\n",
       "  'domain': 'citation',\n",
       "  'info_density': 0.1926416009782461,\n",
       "  'seq_len': 46,\n",
       "  'ner_score': 0.203030303030303,\n",
       "  'tfidf_norm': 0.39313537511001895}]"
      ]
     },
     "execution_count": 3,
     "metadata": {},
     "output_type": "execute_result"
    }
   ],
   "source": [
    "mixed_train[:2]"
   ]
  },
  {
   "cell_type": "code",
   "execution_count": 4,
   "id": "859162fa",
   "metadata": {},
   "outputs": [],
   "source": [
    "from collections import defaultdict, Counter"
   ]
  },
  {
   "cell_type": "code",
   "execution_count": 24,
   "id": "5e036fe4",
   "metadata": {},
   "outputs": [],
   "source": [
    "\n",
    "domains = []\n",
    "for instance in mixed_train:\n",
    "    domain = instance.get('domain')\n",
    "    domains.append(domain.lower())\n",
    "    "
   ]
  },
  {
   "cell_type": "code",
   "execution_count": 40,
   "id": "6fe3a79c",
   "metadata": {},
   "outputs": [],
   "source": [
    "from collections import defaultdict, Counter\n",
    "\n",
    "\n",
    "domains = []\n",
    "for instance in mixed_train:\n",
    "    domain = instance.get('domain')\n",
    "    domains.append(domain.lower())\n",
    "\n",
    "\n",
    "amazon_google=0\n",
    "semi_homo = 0\n",
    "wdc = 0\n",
    "geo_het = 0\n",
    "\n",
    "ag_labels = []\n",
    "sh_labels = []\n",
    "wdc_labels = []\n",
    "gh_labels = []\n",
    "\n",
    "\n",
    "mapper = {\"no\": 0 , \"yes\": 1}\n",
    "\n",
    "for instance in mixed_train:\n",
    "    domain = instance.get('domain')\n",
    "    \n",
    "    \n",
    "    if 'citation' in domain:\n",
    "\n",
    "        label = instance.get('answer')\n",
    "        sh_labels.append(label)\n",
    "        semi_homo += 1\n",
    "    elif 'geo-spatial' in domain:\n",
    "        label = instance.get('answer')\n",
    "        gh_labels.append(label)\n",
    "        geo_het+=1\n",
    "    elif 'electronics/software' in domain:\n",
    "        label = instance.get('answer')\n",
    "        amazon_google+=1\n",
    "        ag_labels.append(label)\n",
    "        \n",
    "    else:\n",
    "        label = instance.get('answer')\n",
    "        wdc += 1\n",
    "        wdc_labels.append(label)\n",
    "        \n",
    "         \n",
    "print(\"sh_labels : \", Counter(sh_labels))\n",
    "print(\"ag_labels : \", Counter(ag_labels))\n",
    "print(\"wdc_labels : \", Counter(wdc_labels))\n",
    "print(\"gh_labels : \", Counter(gh_labels))\n",
    "\n",
    "\n",
    "\n",
    "print('amazon_google : ',amazon_google)\n",
    "print('wdc : ',wdc)\n",
    "print('geo_het : ',geo_het)\n",
    "print('semi_homo : ',semi_homo)"
   ]
  },
  {
   "cell_type": "code",
   "execution_count": 42,
   "id": "8c931747-fe6c-4d34-b5a5-49572ad68e0a",
   "metadata": {},
   "outputs": [
    {
     "name": "stdout",
     "output_type": "stream",
     "text": [
      "sh_labels :  Counter({'no': 14016, 'yes': 3207})\n",
      "ag_labels :  Counter({'no': 6175, 'yes': 699})\n",
      "wdc_labels :  Counter({'no': 11364, 'yes': 8471})\n",
      "gh_labels :  Counter({'no': 1773, 'yes': 727})\n"
     ]
    }
   ],
   "source": [
    "print(\"sh_labels : \", Counter(sh_labels))\n",
    "print(\"ag_labels : \", Counter(ag_labels))\n",
    "print(\"wdc_labels : \", Counter(wdc_labels))\n",
    "print(\"gh_labels : \", Counter(gh_labels))\n"
   ]
  },
  {
   "cell_type": "code",
   "execution_count": 26,
   "id": "33c3fb95",
   "metadata": {},
   "outputs": [
    {
     "name": "stdout",
     "output_type": "stream",
     "text": [
      "amazon_google :  6874\n",
      "wdc :  19835\n",
      "geo_het :  2500\n",
      "semi_homo :  17223\n"
     ]
    }
   ],
   "source": [
    "\n",
    "print('amazon_google : ',amazon_google)\n",
    "print('wdc : ',wdc)\n",
    "print('geo_het : ',geo_het)\n",
    "print('semi_homo : ',semi_homo)"
   ]
  },
  {
   "cell_type": "code",
   "execution_count": 45,
   "id": "db1164c3-d251-4c57-a8b3-3588b35e3bfd",
   "metadata": {},
   "outputs": [
    {
     "data": {
      "text/plain": [
       "46432"
      ]
     },
     "execution_count": 45,
     "metadata": {},
     "output_type": "execute_result"
    }
   ],
   "source": [
    "semi_homo + geo_het + wdc + amazon_google"
   ]
  },
  {
   "cell_type": "code",
   "execution_count": 46,
   "id": "5342d7a2",
   "metadata": {},
   "outputs": [
    {
     "data": {
      "text/plain": [
       "'/home/gigabyte/Documents/programming/Entity-Matching/AssistEM/AssistEM/dataset'"
      ]
     },
     "execution_count": 46,
     "metadata": {},
     "output_type": "execute_result"
    }
   ],
   "source": [
    "pwd"
   ]
  },
  {
   "cell_type": "code",
   "execution_count": 62,
   "id": "b04c84a7",
   "metadata": {},
   "outputs": [
    {
     "name": "stdout",
     "output_type": "stream",
     "text": [
      "198\n"
     ]
    }
   ],
   "source": [
    "train = []\n",
    "count = 0\n",
    "for i in range(0, len(merged), 1):\n",
    "    \n",
    "    if i not in validation_ids:\n",
    "        train.append(merged[i])\n",
    "    else:\n",
    "        count += 1\n",
    "\n",
    "print(count)        "
   ]
  },
  {
   "cell_type": "code",
   "execution_count": 57,
   "id": "9e03ea71",
   "metadata": {},
   "outputs": [
    {
     "data": {
      "text/plain": [
       "range(0, 48032)"
      ]
     },
     "execution_count": 57,
     "metadata": {},
     "output_type": "execute_result"
    }
   ],
   "source": [
    "range(len(merged))"
   ]
  },
  {
   "cell_type": "code",
   "execution_count": 68,
   "id": "8edffe73",
   "metadata": {},
   "outputs": [],
   "source": [
    "with open('mhpromap_valid.json', 'w') as f:\n",
    "    json.dump(validation, fp=f, indent=2)"
   ]
  },
  {
   "cell_type": "code",
   "execution_count": 28,
   "id": "7b42450f",
   "metadata": {},
   "outputs": [
    {
     "data": {
      "text/plain": [
       "48032"
      ]
     },
     "execution_count": 28,
     "metadata": {},
     "output_type": "execute_result"
    }
   ],
   "source": [
    "len(merged)"
   ]
  },
  {
   "cell_type": "code",
   "execution_count": 40,
   "id": "cce17a0b",
   "metadata": {},
   "outputs": [],
   "source": [
    "validation_ids = np.random.randint(0, 48032, 200)"
   ]
  },
  {
   "cell_type": "code",
   "execution_count": 41,
   "id": "fee5091a",
   "metadata": {},
   "outputs": [
    {
     "data": {
      "text/plain": [
       "array([31832, 40517, 23963, 13085, 17745, 36190, 33425, 33522,  3108,\n",
       "       18678, 31545, 43411, 10620, 39666, 40762, 24939, 20927, 42965,\n",
       "       22462, 30233,  1772, 35309, 14258, 12146, 16882, 32958, 46482,\n",
       "       41997, 28524,  3854, 34404, 26567, 25869, 21960, 25402, 19525,\n",
       "        9732,  1879, 22280, 29372, 40486, 20997, 40486, 33167, 12464,\n",
       "       42542, 30085, 11076, 30433, 27612, 20941, 22501, 47756,  9404,\n",
       "       47710,    70,  4867,  6171, 30515, 13433, 27354, 22861, 43529,\n",
       "       39858, 21884, 36075, 33608, 30658,  8383,  1424, 39058, 14546,\n",
       "       21785, 44151, 45835, 47873, 27859, 42909,  8844, 12039, 13064,\n",
       "        2500, 10221, 21165, 22659, 12232, 11445, 22979, 27080, 45875,\n",
       "       10233, 22545, 12993, 41054, 24958, 40016, 34426, 22487, 31578,\n",
       "       34199, 43790,  9878, 26069, 24171, 28660, 16829, 12531, 39648,\n",
       "       13900,  5937, 44711, 39978, 35090, 34232, 33625, 12342,   302,\n",
       "       33392, 40815, 13251, 43654, 16261, 10566, 45154, 37244, 33774,\n",
       "       27857,  4584, 16435, 26557, 30129, 37545, 14061, 16686, 28312,\n",
       "       46788, 40453, 13557, 33968, 26358, 36306,  6437, 33746,  7039,\n",
       "       19295,  1394, 19742,  3089, 46674, 36340, 21452, 15223, 42070,\n",
       "       13011, 22879, 41380, 37973, 27666, 25672, 35073, 47915,  7740,\n",
       "       15643, 16652, 27819,  8014, 22875, 11909,  3190, 13452, 43920,\n",
       "        1369,    68,  4368, 37482, 37732,  9637,  6482, 22790, 29882,\n",
       "       16988, 28644, 44388, 12225, 14268,  1369, 33567, 24803, 15345,\n",
       "       28793, 23223, 45124, 44293, 46361, 29189, 32192, 12443, 21346,\n",
       "       40152, 27359])"
      ]
     },
     "execution_count": 41,
     "metadata": {},
     "output_type": "execute_result"
    }
   ],
   "source": [
    "validation_ids"
   ]
  },
  {
   "cell_type": "code",
   "execution_count": 60,
   "id": "b0dfdff9",
   "metadata": {},
   "outputs": [],
   "source": [
    "validation = []\n",
    "for i in validation_ids:\n",
    "    tuple_info = merged[i]\n",
    "    validation.append(tuple_info)\n"
   ]
  },
  {
   "cell_type": "code",
   "execution_count": 61,
   "id": "eba52171",
   "metadata": {},
   "outputs": [
    {
     "data": {
      "text/plain": [
       "200"
      ]
     },
     "execution_count": 61,
     "metadata": {},
     "output_type": "execute_result"
    }
   ],
   "source": [
    "len(validation)"
   ]
  },
  {
   "cell_type": "code",
   "execution_count": 63,
   "id": "49df2bc3",
   "metadata": {},
   "outputs": [
    {
     "data": {
      "text/plain": [
       "198"
      ]
     },
     "execution_count": 63,
     "metadata": {},
     "output_type": "execute_result"
    }
   ],
   "source": [
    "len(merged) - len(train) "
   ]
  },
  {
   "cell_type": "code",
   "execution_count": null,
   "id": "ca57155c",
   "metadata": {},
   "outputs": [],
   "source": [
    "train = []\n",
    "for i in validation_ids:\n",
    "    tuple_info = merged[i]\n",
    "    validation.append(tuple_info)"
   ]
  },
  {
   "cell_type": "code",
   "execution_count": 64,
   "id": "ca444f5a",
   "metadata": {},
   "outputs": [
    {
     "data": {
      "text/plain": [
       "47834"
      ]
     },
     "execution_count": 64,
     "metadata": {},
     "output_type": "execute_result"
    }
   ],
   "source": [
    "len(train)"
   ]
  },
  {
   "cell_type": "code",
   "execution_count": null,
   "id": "439d2106",
   "metadata": {},
   "outputs": [],
   "source": []
  }
 ],
 "metadata": {
  "kernelspec": {
   "display_name": "Python 3 (ipykernel)",
   "language": "python",
   "name": "python3"
  },
  "language_info": {
   "codemirror_mode": {
    "name": "ipython",
    "version": 3
   },
   "file_extension": ".py",
   "mimetype": "text/x-python",
   "name": "python",
   "nbconvert_exporter": "python",
   "pygments_lexer": "ipython3",
   "version": "3.8.16"
  }
 },
 "nbformat": 4,
 "nbformat_minor": 5
}
